{
 "cells": [
  {
   "cell_type": "code",
   "execution_count": 10,
   "metadata": {},
   "outputs": [
    {
     "name": "stderr",
     "output_type": "stream",
     "text": [
      "usage: ipykernel_launcher.py [-h] [-c CONFIG] [-t TEMPLATE]\n",
      "ipykernel_launcher.py: error: unrecognized arguments: -f /run/user/1000/jupyter/kernel-bcfb4b38-a727-4b05-9b06-0678e9a89406.json\n"
     ]
    },
    {
     "ename": "SystemExit",
     "evalue": "2",
     "output_type": "error",
     "traceback": [
      "An exception has occurred, use %tb to see the full traceback.\n",
      "\u001b[0;31mSystemExit\u001b[0m\u001b[0;31m:\u001b[0m 2\n"
     ]
    }
   ],
   "source": [
    "#!/usr/bin/env python\n",
    "\n",
    "import numpy as np\n",
    "import cv2\n",
    "\n",
    "from cv_bridge import CvBridge, CvBridgeError\n",
    "import rospy\n",
    "from sensor_msgs.msg import Image\n",
    "from std_msgs.msg import String\n",
    "\n",
    "import yaml\n",
    "import copy\n",
    "import argparse\n",
    "import time\n",
    "\n",
    "from camera import Camera\n",
    "\n",
    "def read_config(conf_file):\n",
    "    data_loaded = yaml.load(conf_file)\n",
    "\n",
    "    DIM = (data_loaded['image_width'], data_loaded['image_height'])\n",
    "    rospy.loginfo(\"DIM:\", DIM )\n",
    "    camera_matrix = data_loaded['camera_matrix']\n",
    "    data = camera_matrix['data']\n",
    "    rows = camera_matrix['rows']\n",
    "    cols = camera_matrix['cols']\n",
    "\n",
    "    _K = []\n",
    "    for i in range(rows):\n",
    "        _K.append(data[i * rows:i * rows + cols:1])\n",
    "\n",
    "    K = np.array(_K)\n",
    "    rospy.loginfo(\"CAMERA MATRIX:\\n\", K)\n",
    "\n",
    "    distortion_coefficients = data_loaded['distortion_coefficients']\n",
    "    data = distortion_coefficients['data']\n",
    "    rows = distortion_coefficients['rows']\n",
    "    cols = distortion_coefficients['cols']\n",
    "\n",
    "    _D = []\n",
    "    for i in range(rows):\n",
    "        _D.append(data[i * rows:i * rows + cols:1])\n",
    "\n",
    "    D = np.array([[_D[0][0]], [_D[0][1]], [_D[0][2]], [_D[0][3]]])\n",
    "    rospy.loginfo(\"DISTORION COEFFICIENTS:\\n\", D)\n",
    "\n",
    "    return DIM, K, D\n",
    "\n",
    "class CameraUndistortNode():\n",
    "    def __init__(self, DIM, K, D):\n",
    "        self.node = rospy.init_node('camera_undistort_node', anonymous=True)\n",
    "        self.publisher_undistorted = rospy.Publisher(\"/undistorted_image\", Image, queue_size = 1)\n",
    "        self.publisher = rospy.Publisher(\"/recognition_image\", Image, queue_size = 1)\n",
    "        self.publisher_gray = rospy.Publisher(\"/gray_scale_image\", Image, queue_size = 1)\n",
    "        self.publisher_thresh = rospy.Publisher(\"/threshold_image\", Image, queue_size = 1)\n",
    "        self.publisher_contours = rospy.Publisher(\"/contours_image\", Image, queue_size = 1)\n",
    "        self.publisher_filter_contours = rospy.Publisher(\"/filtered_contours_image\", Image, queue_size = 1)\n",
    "        self.publisher_coordinates = rospy.Publisher(\"/pucks_coordinates\", String, queue_size = 1)\n",
    "        \n",
    "        self.bridge = CvBridge()\n",
    "        self.camera = Camera(DIM, K, D)\n",
    "        self.\n",
    "        \n",
    "        self.subscriber = rospy.Subscriber(\"/usb_cam/image_raw\", Image,\n",
    "                                           self.__callback, queue_size = 1)\n",
    "        \n",
    "    def __callback(self, data):\n",
    "        start_time = time.time()\n",
    "        cv_image = self.bridge.imgmsg_to_cv2(data, \"bgr8\")\n",
    "        rospy.loginfo(rospy.get_caller_id())\n",
    "        \n",
    "        # Process image\n",
    "        cv_image = self.camera.filter_image(cv_image)\n",
    "        undistorted_image = self.camera.undistort(cv_image)\n",
    "        image = undistorted_image\n",
    "\n",
    "        # Align image using field template\n",
    "        if self.camera.align_image(image):\n",
    "        \n",
    "            # Find thresholds and contours\n",
    "            image_gray = cv2.cvtColor(image, cv2.COLOR_RGB2GRAY)\n",
    "            image_thresholds = self.camera.find_thresholds(image_gray)\n",
    "            contours = self.camera.find_contours(image_gray)\n",
    "            image_contours = copy.copy(image)\n",
    "            image_contours = self.camera.draw_contours(image_contours, contours)\n",
    "\n",
    "            # Filter contours\n",
    "            contours_filtered = self.camera.filter_contours(contours)\n",
    "            image_filter_contours = copy.copy(image)\n",
    "            image_filter_contours = self.camera.draw_contours(image_filter_contours, contours_filtered)\n",
    "\n",
    "            # Create ellipse contours around pucks \n",
    "            image_pucks = copy.copy(image)\n",
    "            coordinates = self.camera.find_pucks_coordinates(contours_filtered)\n",
    "            image_pucks = self.camera.draw_contours(contours_filtered, coordinates, image_pucks)\n",
    "\n",
    "            # Publish all images to topics\n",
    "            self.publisher_undistorted.publish(self.bridge.cv2_to_imgmsg(image, \"bgr8\"))\n",
    "            self.publisher_gray.publish(self.bridge.cv2_to_imgmsg(image_gray))\n",
    "            self.publisher_thresh.publish(self.bridge.cv2_to_imgmsg(image_thresholds))\n",
    "            self.publisher_contours.publish(self.bridge.cv2_to_imgmsg(contours_image, \"bgr8\"))\n",
    "            self.publisher_filter_contours.publish(self.bridge.cv2_to_imgmsg(image_filter_contours, \"bgr8\"))\n",
    "            self.publisher.publish(self.bridge.cv2_to_imgmsg(image_pucks, \"bgr8\"))\n",
    "            \n",
    "            # Publish pucks coordinates\n",
    "            self.publisher_coordinates.publish(coordinates)\n",
    "\n",
    "            res_time = time.time()-start_time\n",
    "            rospy.loginfo(\"RESULT TIME = \", res_time)\n",
    "\n",
    "if __name__ == '__main__':\n",
    "    parser = argparse.ArgumentParser()\n",
    "    parser.add_argument(\"-c\", \"--config\",\n",
    "                        help=\"path to camera config yaml file\",\n",
    "                        default=\"../configs/calibration.yaml\")\n",
    "    parser.add_argument(\"-t\", \"--template\",\n",
    "                        help=\"path to field's template file\",\n",
    "                        default=\"../configs/field.png\")\n",
    "    args = parser.parse_args()\n",
    "\n",
    "    try:\n",
    "        conf_file = open(args.config, 'r')\n",
    "    except IOError as err:\n",
    "        sys.exit(\"Couldn't find config file\")\n",
    "        \n",
    "    DIM, K, D = read_config(conf_file)\n",
    "\n",
    "    undistort_node = CameraUndistortNode(DIM, K, D, args.template)\n",
    "    undistort_node.camera.find_vertical_projection()\n",
    "    \n",
    "    rospy.spin()"
   ]
  },
  {
   "cell_type": "code",
   "execution_count": 5,
   "metadata": {},
   "outputs": [
    {
     "ename": "ValueError",
     "evalue": "Unknown format code 'f' for object of type 'str'",
     "output_type": "error",
     "traceback": [
      "\u001b[0;31m---------------------------------------------------------------------------\u001b[0m",
      "\u001b[0;31mValueError\u001b[0m                                Traceback (most recent call last)",
      "\u001b[0;32m<ipython-input-5-7cf36f6c4d91>\u001b[0m in \u001b[0;36m<module>\u001b[0;34m()\u001b[0m\n\u001b[1;32m      1\u001b[0m \u001b[0mCx\u001b[0m\u001b[0;34m=\u001b[0m\u001b[0;36m0.5\u001b[0m\u001b[0;34m\u001b[0m\u001b[0m\n\u001b[1;32m      2\u001b[0m \u001b[0mCy\u001b[0m \u001b[0;34m=\u001b[0m \u001b[0;36m1\u001b[0m\u001b[0;34m\u001b[0m\u001b[0m\n\u001b[0;32m----> 3\u001b[0;31m \u001b[0mtext\u001b[0m\u001b[0;34m=\u001b[0m\u001b[0;34m\"Cx={0:.2f},Cy={0:.2f}\"\u001b[0m\u001b[0;34m.\u001b[0m\u001b[0mformat\u001b[0m\u001b[0;34m(\u001b[0m\u001b[0;34m[\u001b[0m\u001b[0mCx\u001b[0m\u001b[0;34m,\u001b[0m\u001b[0mCy\u001b[0m\u001b[0;34m]\u001b[0m\u001b[0;34m)\u001b[0m\u001b[0;34m\u001b[0m\u001b[0m\n\u001b[0m\u001b[1;32m      4\u001b[0m \u001b[0;32mprint\u001b[0m \u001b[0mtext\u001b[0m\u001b[0;34m\u001b[0m\u001b[0m\n",
      "\u001b[0;31mValueError\u001b[0m: Unknown format code 'f' for object of type 'str'"
     ]
    }
   ],
   "source": [
    "Cx=0.5\n",
    "Cy = 1\n",
    "Cx = \"{0:.2f}\".format(Cx)\n",
    "Cy = \"{0:.2f}\".format(Cy)\n",
    "text=\"Cx=\"\"+CxCy=\"\n",
    "print text"
   ]
  },
  {
   "cell_type": "code",
   "execution_count": 7,
   "metadata": {},
   "outputs": [
    {
     "name": "stdout",
     "output_type": "stream",
     "text": [
      "a\n",
      "a\n",
      "a\n",
      "a\n",
      "[1, 2, 3, 4]\n"
     ]
    }
   ],
   "source": [
    "a = [1, 2, 3, 4]\n",
    "b = [1, 2, 3, 4]\n",
    "for i,k in zip(a,b):\n",
    "    print \"a\"\n",
    "print str(a)"
   ]
  },
  {
   "cell_type": "code",
   "execution_count": 8,
   "metadata": {},
   "outputs": [],
   "source": [
    "import skimage\n",
    "\n",
    "def get_distances_skimage(input_img):\n",
    "    lab_COLORS = skimage.color.rgb2lab(COLORS[np.newaxis, :, :])[0]\n",
    "    lab_img = skimage.color.rgb2lab(input_img)\n",
    "    dist_array = skimage.color.deltaE_cmc(lab_img[:, :, np.newaxis], lab_COLORS[np.newaxis, np.newaxis, :],\n",
    "                                          2, 1)\n",
    "    return dist_array\n",
    "def determ_color(color):\n",
    "    return np.argmin(get_distances_skimage(np.array([[\n",
    "        color.astype(np.uint8)]]))[0, 0]), color"
   ]
  }
 ],
 "metadata": {
  "kernelspec": {
   "display_name": "Python 2",
   "language": "python",
   "name": "python2"
  },
  "language_info": {
   "codemirror_mode": {
    "name": "ipython",
    "version": 2
   },
   "file_extension": ".py",
   "mimetype": "text/x-python",
   "name": "python",
   "nbconvert_exporter": "python",
   "pygments_lexer": "ipython2",
   "version": "2.7.12"
  }
 },
 "nbformat": 4,
 "nbformat_minor": 2
}
