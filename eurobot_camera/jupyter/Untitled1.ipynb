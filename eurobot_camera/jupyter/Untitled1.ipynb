{
 "cells": [
  {
   "cell_type": "code",
   "execution_count": 1,
   "metadata": {},
   "outputs": [
    {
     "name": "stdout",
     "output_type": "stream",
     "text": [
      "\n",
      "This program illustrates the use of findContours and drawContours.\n",
      "The original image is put up along with the image of drawn contours.\n",
      "Usage:\n",
      "    contours.py\n",
      "A trackbar is put up which controls the contour level from -3 to 3\n",
      "\n"
     ]
    },
    {
     "ename": "AttributeError",
     "evalue": "'module' object has no attribute 'CV_AA'",
     "output_type": "error",
     "traceback": [
      "\u001b[0;31m---------------------------------------------------------------------------\u001b[0m",
      "\u001b[0;31mAttributeError\u001b[0m                            Traceback (most recent call last)",
      "\u001b[0;32m<ipython-input-1-3220f2a123c8>\u001b[0m in \u001b[0;36m<module>\u001b[0;34m()\u001b[0m\n\u001b[1;32m     53\u001b[0m             3, cv2.CV_AA, hierarchy, abs(levels) )\n\u001b[1;32m     54\u001b[0m         \u001b[0mcv2\u001b[0m\u001b[0;34m.\u001b[0m\u001b[0mimshow\u001b[0m\u001b[0;34m(\u001b[0m\u001b[0;34m'contours'\u001b[0m\u001b[0;34m,\u001b[0m \u001b[0mvis\u001b[0m\u001b[0;34m)\u001b[0m\u001b[0;34m\u001b[0m\u001b[0m\n\u001b[0;32m---> 55\u001b[0;31m     \u001b[0mupdate\u001b[0m\u001b[0;34m(\u001b[0m\u001b[0;36m3\u001b[0m\u001b[0;34m)\u001b[0m\u001b[0;34m\u001b[0m\u001b[0m\n\u001b[0m\u001b[1;32m     56\u001b[0m     \u001b[0mcv2\u001b[0m\u001b[0;34m.\u001b[0m\u001b[0mcreateTrackbar\u001b[0m\u001b[0;34m(\u001b[0m \u001b[0;34m\"levels+3\"\u001b[0m\u001b[0;34m,\u001b[0m \u001b[0;34m\"contours\"\u001b[0m\u001b[0;34m,\u001b[0m \u001b[0;36m3\u001b[0m\u001b[0;34m,\u001b[0m \u001b[0;36m7\u001b[0m\u001b[0;34m,\u001b[0m \u001b[0mupdate\u001b[0m \u001b[0;34m)\u001b[0m\u001b[0;34m\u001b[0m\u001b[0m\n\u001b[1;32m     57\u001b[0m     \u001b[0mcv2\u001b[0m\u001b[0;34m.\u001b[0m\u001b[0mimshow\u001b[0m\u001b[0;34m(\u001b[0m\u001b[0;34m'image'\u001b[0m\u001b[0;34m,\u001b[0m \u001b[0mimg\u001b[0m\u001b[0;34m)\u001b[0m\u001b[0;34m\u001b[0m\u001b[0m\n",
      "\u001b[0;32m<ipython-input-1-3220f2a123c8>\u001b[0m in \u001b[0;36mupdate\u001b[0;34m(levels)\u001b[0m\n\u001b[1;32m     51\u001b[0m         \u001b[0mlevels\u001b[0m \u001b[0;34m=\u001b[0m \u001b[0mlevels\u001b[0m \u001b[0;34m-\u001b[0m \u001b[0;36m3\u001b[0m\u001b[0;34m\u001b[0m\u001b[0m\n\u001b[1;32m     52\u001b[0m         cv2.drawContours( vis, contours, (-1, 3)[levels <= 0], (128,255,255), \n\u001b[0;32m---> 53\u001b[0;31m             3, cv2.CV_AA, hierarchy, abs(levels) )\n\u001b[0m\u001b[1;32m     54\u001b[0m         \u001b[0mcv2\u001b[0m\u001b[0;34m.\u001b[0m\u001b[0mimshow\u001b[0m\u001b[0;34m(\u001b[0m\u001b[0;34m'contours'\u001b[0m\u001b[0;34m,\u001b[0m \u001b[0mvis\u001b[0m\u001b[0;34m)\u001b[0m\u001b[0;34m\u001b[0m\u001b[0m\n\u001b[1;32m     55\u001b[0m     \u001b[0mupdate\u001b[0m\u001b[0;34m(\u001b[0m\u001b[0;36m3\u001b[0m\u001b[0;34m)\u001b[0m\u001b[0;34m\u001b[0m\u001b[0m\n",
      "\u001b[0;31mAttributeError\u001b[0m: 'module' object has no attribute 'CV_AA'"
     ]
    }
   ],
   "source": [
    "import numpy as np\n",
    "import cv2\n",
    "\n",
    "def make_image():\n",
    "    img = np.zeros((500, 500), np.uint8)\n",
    "    black, white = 0, 255\n",
    "    for i in xrange(6):\n",
    "        dx = (i%2)*250 - 30\n",
    "        dy = (i/2)*150\n",
    "        \n",
    "        if i == 0:\n",
    "            for j in xrange(11):\n",
    "                angle = (j+5)*np.pi/21\n",
    "                c, s = np.cos(angle), np.sin(angle)\n",
    "                x1, y1 = np.int32([dx+100+j*10-80*c, dy+100-90*s])\n",
    "                x2, y2 = np.int32([dx+100+j*10-30*c, dy+100-30*s])\n",
    "                cv2.line(img, (x1, y1), (x2, y2), white)\n",
    "        \n",
    "        cv2.ellipse( img, (dx+150, dy+100), (100,70), 0, 0, 360, white, -1 )\n",
    "        cv2.ellipse( img, (dx+115, dy+70), (30,20), 0, 0, 360, black, -1 )\n",
    "        cv2.ellipse( img, (dx+185, dy+70), (30,20), 0, 0, 360, black, -1 )\n",
    "        cv2.ellipse( img, (dx+115, dy+70), (15,15), 0, 0, 360, white, -1 )\n",
    "        cv2.ellipse( img, (dx+185, dy+70), (15,15), 0, 0, 360, white, -1 )\n",
    "        cv2.ellipse( img, (dx+115, dy+70), (5,5), 0, 0, 360, black, -1 )\n",
    "        cv2.ellipse( img, (dx+185, dy+70), (5,5), 0, 0, 360, black, -1 )\n",
    "        cv2.ellipse( img, (dx+150, dy+100), (10,5), 0, 0, 360, black, -1 )\n",
    "        cv2.ellipse( img, (dx+150, dy+150), (40,10), 0, 0, 360, black, -1 )\n",
    "        cv2.ellipse( img, (dx+27, dy+100), (20,35), 0, 0, 360, white, -1 )\n",
    "        cv2.ellipse( img, (dx+273, dy+100), (20,35), 0, 0, 360, white, -1 )\n",
    "    return img\n",
    "\n",
    "if __name__ == '__main__':\n",
    "    print __doc__\n",
    "\n",
    "    img = make_image()\n",
    "    h, w = img.shape[:2]\n",
    "\n",
    "    image, contours0, hierarchy = cv2.findContours( img.copy(), cv2.RETR_TREE, cv2.CHAIN_APPROX_SIMPLE)\n",
    "    contours = [cv2.approxPolyDP(cnt, 3, True) for cnt in contours0]\n",
    "    \n",
    "    def update(levels):\n",
    "        vis = np.zeros((h, w, 3), np.uint8)\n",
    "        levels = levels - 3\n",
    "        cv2.drawContours( vis, contours, (-1, 3)[levels <= 0], (128,255,255), \n",
    "            3, cv2.CV_AA, hierarchy, abs(levels) )\n",
    "        cv2.imshow('contours', vis)\n",
    "    update(3)\n",
    "    cv2.createTrackbar( \"levels+3\", \"contours\", 3, 7, update )\n",
    "    cv2.imshow('image', img)\n",
    "    0xFF & cv2.waitKey()\n",
    "    cv2.destroyAllWindows() "
   ]
  }
 ],
 "metadata": {
  "kernelspec": {
   "display_name": "Python 2",
   "language": "python",
   "name": "python2"
  },
  "language_info": {
   "codemirror_mode": {
    "name": "ipython",
    "version": 2
   },
   "file_extension": ".py",
   "mimetype": "text/x-python",
   "name": "python",
   "nbconvert_exporter": "python",
   "pygments_lexer": "ipython2",
   "version": "2.7.12"
  }
 },
 "nbformat": 4,
 "nbformat_minor": 2
}
