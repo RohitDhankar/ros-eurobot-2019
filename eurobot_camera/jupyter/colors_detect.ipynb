{
 "cells": [
  {
   "cell_type": "code",
   "execution_count": 8,
   "metadata": {},
   "outputs": [
    {
     "data": {
      "text/plain": [
       "<matplotlib.image.AxesImage at 0x7fe4cf591190>"
      ]
     },
     "execution_count": 8,
     "metadata": {},
     "output_type": "execute_result"
    },
    {
     "data": {
      "image/png": "[encoded data removed]",
      "text/plain": [
       "<Figure size 432x288 with 1 Axes>"
      ]
     },
     "metadata": {
      "needs_background": "light"
     },
     "output_type": "display_data"
    }
   ],
   "source": [
    "from skimage import data, io, segmentation, color\n",
    "from skimage.future import graph\n",
    "from matplotlib import pyplot as plt\n",
    "\n",
    "import skimage\n",
    "import cv2\n",
    "\n",
    "REDIUM_COLOR = [230, 0, 0]\n",
    "GREENIUM_COLOR = [77, 255, 25]\n",
    "BLUEIUM_COLOR = [25, 153, 255]\n",
    "\n",
    "def get_distances_skimage(input_img, kl=2, kp=1, **kwargs):\n",
    "    lab_COLORS = skimage.color.rgb2lab(COLORS[np.newaxis, :, :])[0]\n",
    "    lab_img = skimage.color.rgb2lab(input_img)\n",
    "    dist_array = skimage.color.deltaE_cmc(lab_img[:, :, np.newaxis], lab_COLORS[np.newaxis, np.newaxis, :],\n",
    "                                          kl, kp)\n",
    "    return dist_array\n",
    "\n",
    "def determ_color(color, s_cutoff=0.25, v_cutoff=0.25, s_gain=20, v_gain=20, **kwargs):\n",
    "    img2 = np.array([[color.astype(np.uint8)]])\n",
    "    img2 = cv2.cvtColor(img2, cv2.COLOR_RGB2HSV)\n",
    "    img2[:, :, 1] = skimage.exposure.adjust_sigmoid(img2[:, :, 1], s_cutoff, s_gain)\n",
    "    img2[:, :, 2] = skimage.exposure.adjust_sigmoid(img2[:, :, 2], v_cutoff, v_gain)\n",
    "    img2 = cv2.cvtColor(img2, cv2.COLOR_HSV2RGB)\n",
    "    return np.argmin(get_distances_skimage(np.array(img2))[0, 0])\n",
    "\n",
    "\n",
    "\n",
    "img = io.imread(\"/home/nuka-cola/.ros/image.png\")\n",
    "img_gray = cv2.cvtColor(img, cv2.COLOR_RGB2GRAY)\n",
    "\n",
    "ret, thresh = cv2.threshold(img_gray, 127, 255, 0)\n",
    "image, contours, hierarchy = cv2.findContours(thresh, cv2.RETR_TREE, cv2.CHAIN_APPROX_SIMPLE)\n",
    "\n",
    "image_f = cv2.drawContours(image, contours, -1, (255,0,0), 3)\n",
    "\n",
    "plt.imshow(image_f)\n",
    "\n"
   ]
  },
  {
   "cell_type": "code",
   "execution_count": 75,
   "metadata": {},
   "outputs": [
    {
     "name": "stdout",
     "output_type": "stream",
     "text": [
      "[[230   0   0]\n",
      " [ 77 255  25]\n",
      " [ 25 153 255]]\n",
      "[[[ 48.04335752  74.08054268  62.1584816 ]\n",
      "  [ 88.52609404 -79.01588508  81.76924998]\n",
      "  [ 61.83055688   4.32627342 -59.4598142 ]]]\n",
      "(array([ 48.04335752,  74.08054268,  62.1584816 ]), array([ 88.52609404, -79.01588508,  81.76924998]), array([ 61.83055688,   4.32627342, -59.4598142 ]))\n",
      "[[897   4]]\n"
     ]
    },
    {
     "data": {
      "text/plain": [
       "<matplotlib.image.AxesImage at 0x7fe4cf167a10>"
      ]
     },
     "execution_count": 75,
     "metadata": {},
     "output_type": "execute_result"
    },
    {
     "data": {
      "image/png": "[encoded data removed]",
      "text/plain": [
       "<Figure size 432x288 with 1 Axes>"
      ]
     },
     "metadata": {
      "needs_background": "light"
     },
     "output_type": "display_data"
    }
   ],
   "source": [
    "import numpy as np\n",
    "\n",
    "COLORS = np.array((REDIUM_COLOR,GREENIUM_COLOR,BLUEIUM_COLOR), dtype=np.uint8)\n",
    "\n",
    "\n",
    "print (COLORS)\n",
    "\n",
    "\n",
    "LAB_COLORS = skimage.color.rgb2lab(COLORS[np.newaxis,:,:])\n",
    "print (LAB_COLORS)\n",
    "LAB_REDIUM = LAB_COLORS[0,0]\n",
    "LAB_GREENIUM = LAB_COLORS[0,1]\n",
    "LAB_BLUEIUM = LAB_COLORS[0,2]\n",
    "\n",
    "print (LAB_REDIUM,LAB_GREENIUM,LAB_BLUEIUM)\n",
    "\n",
    "for cnt in contours:\n",
    "    mask = np.zeros(img_gray.shape,np.uint8)\n",
    "    cv2.drawContours(mask,[cnt],0,255,-1)\n",
    "    #pixelpoints = np.transpose(np.nonzero(mask))\n",
    "    pixelpoints = cv2.findNonZero(mask) \n",
    "\n",
    "print pixelpoints[0]\n",
    "plt.imshow(mask)\n",
    "# skimage.color.deltaE_cie76(contours[0], LAB_BLUEIUM)"
   ]
  },
  {
   "cell_type": "code",
   "execution_count": 76,
   "metadata": {},
   "outputs": [],
   "source": [
    "def find_color_difference(color):\n",
    "    print color.shape\n",
    "    distances = []\n",
    "    distances.append(skimage.color.deltaE_cmc(color, LAB_REDIUM,2,1))\n",
    "    distances.append(skimage.color.deltaE_cmc(color, LAB_GREENIUM,2,1))\n",
    "    distances.append(skimage.color.deltaE_cmc(color, LAB_BLUEIUM,2,1))\n",
    "    return distances"
   ]
  },
  {
   "cell_type": "code",
   "execution_count": 77,
   "metadata": {},
   "outputs": [
    {
     "name": "stdout",
     "output_type": "stream",
     "text": [
      "(897, 4)\n",
      "[897   4]\n",
      "[33 41 56]\n",
      "(3,)\n",
      "(3,)\n",
      "(3,)\n",
      "(3,)\n",
      "(3,)\n",
      "(3,)\n",
      "(3,)\n",
      "(3,)\n"
     ]
    }
   ],
   "source": [
    "a = (pixelpoints[0,0,0],pixelpoints[0,0,1])\n",
    "\n",
    "print (pixelpoints[0,0,0],pixelpoints[0,0,1])\n",
    "print pixelpoints[0,0]\n",
    "print img[a]\n",
    "\n",
    "for pixel in pixelpoints:\n",
    "        \n",
    "    \n",
    "    find_color_difference(img[a])"
   ]
  },
  {
   "cell_type": "code",
   "execution_count": 78,
   "metadata": {},
   "outputs": [
    {
     "name": "stdout",
     "output_type": "stream",
     "text": [
      "[[[  0 123 176]\n",
      "  [208  90  40]\n",
      "  [ 28  28  32]\n",
      "  [ 96 153  59]\n",
      "  [247 181   0]]]\n"
     ]
    }
   ],
   "source": [
    "COLORS = np.array([[0, 123, 176], [208, 90, 40], [28, 28, 32], [96, 153, 59], [247, 181, 0]], dtype=np.uint8)\n",
    "LAB_COLORS = COLORS[np.newaxis, :, :]\n",
    "print LAB_COLORS"
   ]
  },
  {
   "cell_type": "code",
   "execution_count": 9,
   "metadata": {},
   "outputs": [
    {
     "name": "stdout",
     "output_type": "stream",
     "text": [
      "[[[ 28.34984403   2.27268067 -17.08110991]]]\n",
      "(3,)\n",
      "[96.45647072803467, 119.9409620227277, 35.13774503940121]\n"
     ]
    }
   ],
   "source": [
    "avg_r = 0\n",
    "avg_g = 0\n",
    "avg_b = 0\n",
    "for pixel in pixelpoints:\n",
    "    # np.sum\n",
    "    avg_r += img[pixelpoints[0,0,0]][0,0]\n",
    "    avg_g += img[pixelpoints[0,0,0]][0,1]\n",
    "    avg_b += img[pixelpoints[0,0,0]][0,2]\n",
    "    #print img[pixel[0]]\n",
    "avg_r = avg_r/len(pixelpoints)\n",
    "avg_g = avg_g/len(pixelpoints)\n",
    "avg_b = avg_b/len(pixelpoints)\n",
    "\n",
    "color = np.zeros((1,1,3),dtype=np.uint8)\n",
    "\n",
    "color[0,0,0] = avg_r\n",
    "color[0,0,1] = avg_g\n",
    "color[0,0,2] = avg_b\n",
    "\n",
    "COLOR = skimage.color.rgb2lab(color)\n",
    "print COLOR\n",
    "mas = find_color_difference(COLOR[0, 0])\n",
    "print mas"
   ]
  },
  {
   "cell_type": "code",
   "execution_count": 11,
   "metadata": {},
   "outputs": [
    {
     "data": {
      "text/plain": [
       "array([[ 96.45647073, 119.94096202,  35.13774504]])"
      ]
     },
     "execution_count": 11,
     "metadata": {},
     "output_type": "execute_result"
    }
   ],
   "source": [
    "skimage.color.deltaE_cmc(COLOR, [LAB_REDIUM, LAB_GREENIUM, LAB_BLUEIUM],2,1)\n",
    "\n",
    "\n",
    "\n",
    "\n"
   ]
  }
 ],
 "metadata": {
  "kernelspec": {
   "display_name": "Python 2",
   "language": "python",
   "name": "python2"
  },
  "language_info": {
   "codemirror_mode": {
    "name": "ipython",
    "version": 2
   },
   "file_extension": ".py",
   "mimetype": "text/x-python",
   "name": "python",
   "nbconvert_exporter": "python",
   "pygments_lexer": "ipython2",
   "version": "2.7.12"
  }
 },
 "nbformat": 4,
 "nbformat_minor": 2
}
