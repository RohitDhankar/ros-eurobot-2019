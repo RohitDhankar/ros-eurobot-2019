{
 "cells": [
  {
   "cell_type": "code",
   "execution_count": 1,
   "metadata": {},
   "outputs": [],
   "source": [
    "import numpy as np\n",
    "import matplotlib.pyplot as plt\n",
    "from matplotlib.pyplot import figure"
   ]
  },
  {
   "cell_type": "code",
   "execution_count": 2,
   "metadata": {},
   "outputs": [],
   "source": [
    "# coordinates_list = [[0.9, 0.9],\n",
    "#                     [0.8, 1],\n",
    "#                     [0.9, 1.1],\n",
    "#                     [1, 1]]\n",
    "\n",
    "\n",
    "# a = ([[  6.48076197,   9.86263944,  -0.27829966],\n",
    "#        [  5.51923803,  10.13736056,  -0.27829966],\n",
    "#        [  7.14367394,   7.47891314,   1.27933953],\n",
    "#        [  6.85632606,   6.52108686,   1.27933953],\n",
    "#        [ 10.48809353,  10.10846523,  -2.92292371],\n",
    "#        [  9.51190647,   9.89153477,  -2.92292371],\n",
    "#        [  8.08219949,  11.49319696,  -1.735945  ],\n",
    "#        [  7.91780051,  10.50680304,  -1.735945  ]])\n",
    "\n",
    "# print(filter_outer(a))"
   ]
  },
  {
   "cell_type": "code",
   "execution_count": 3,
   "metadata": {},
   "outputs": [],
   "source": [
    "def get_rt(alpha, x):\n",
    "    s, c = np.sin(alpha), np.cos(alpha)\n",
    "    r = np.array([[c, s], [-s, c]])\n",
    "    rotated = np.dot(r, x)\n",
    "    return rotated\n",
    "\n",
    "def calculate_distance(coords1, coords2):\n",
    "    theta_diff = None\n",
    "    distance_map_frame = coords2[:2] - coords1[:2]\n",
    "    if len(coords1) == 3 and len(coords2) == 3:\n",
    "        theta_diff = wrap_angle(coords2[2] - coords1[2])\n",
    "    return distance_map_frame, theta_diff\n",
    "\n",
    "def wrap_angle(angle):\n",
    "    \"\"\"\n",
    "    Wraps the given angle to the range [-pi, +pi].\n",
    "    :param angle: The angle (in rad) to wrap (can be unbounded).\n",
    "    :return: The wrapped angle (guaranteed to in [-pi, +pi]).\n",
    "    \"\"\"\n",
    "    return (angle + np.pi) % (np.pi * 2) - np.pi\n",
    "\n",
    "def rotate(a, b, c):\n",
    "    return (b[0] - a[0]) * (c[1] - b[1]) - (b[1] - a[1]) * (c[0] - b[0])\n",
    "\n",
    "def find_outer(coords):\n",
    "    \"\"\"\n",
    "    filter out inner landings\n",
    "    input: [(x0, y0), (x1, y1), ...]\n",
    "    jarvis march\n",
    "    :return: convex hull, list of coordinates, TODO counter or clockwise, need to figure out\n",
    "    \"\"\"\n",
    "    a = coords\n",
    "    n = len(a)\n",
    "    p = range(n)\n",
    "    # start point\n",
    "    for i in range(1, n):\n",
    "        if a[p[i]][0] < a[p[0]][0]:\n",
    "            p[i], p[0] = p[0], p[i]\n",
    "    h = [p[0]]\n",
    "    del p[0]\n",
    "    p.append(h[0])\n",
    "    while True:\n",
    "        right = 0\n",
    "        for i in range(1, len(p)):\n",
    "            if rotate(a[h[-1]], a[p[right]], a[p[i]]) < 0:  # FIXME\n",
    "                right = i\n",
    "        if p[right] == h[0]:\n",
    "            break\n",
    "        else:\n",
    "            h.append(p[right])\n",
    "            del p[right]\n",
    "    #hull = [a[i] for i in h]\n",
    "    return h\n",
    "\n",
    "def transformation_matrix(x, y, theta):\n",
    "    return np.array([[np.cos(theta), -np.sin(theta), x],\n",
    "                     [np.sin(theta), np.cos(theta), y],\n",
    "                     [0, 0, 1]])\n",
    "\n",
    "def plot_vehicle(x, y, theta):\n",
    "    # Corners of triangular vehicle when pointing to the right (0 radians)\n",
    "\n",
    "    p1_i = np.array([0.03, 0, 1]).T\n",
    "    p2_i = np.array([-0.02, 0.01, 1]).T\n",
    "    p3_i = np.array([-0.02, -0.01, 1]).T\n",
    "\n",
    "    T = transformation_matrix(x, y, theta)\n",
    "    p1 = np.matmul(T, p1_i)\n",
    "    p2 = np.matmul(T, p2_i)\n",
    "    p3 = np.matmul(T, p3_i)\n",
    "\n",
    "    ax.plot([p1[0], p2[0]], [p1[1], p2[1]], 'g-')\n",
    "    ax.plot([p2[0], p3[0]], [p2[1], p3[1]], 'g-')\n",
    "    ax.plot([p3[0], p1[0]], [p3[1], p1[1]], 'g-')"
   ]
  },
  {
   "cell_type": "code",
   "execution_count": 4,
   "metadata": {},
   "outputs": [],
   "source": [
    "# pucks_in_frame = np.array([[0.6, 0.10], [0.7, 0.7], [0.10, 0.10], [0.8, 0.11]])\n",
    "\n",
    "pucks_in_frame = np.array([[0.7, 0.8],\n",
    "                            [0.9, 0.9],\n",
    "                            [1.1, 0.85],\n",
    "                            [0.9, 1.1]])\n",
    "\n",
    "# hull = [[9, 9],\n",
    "#         [8, 10],\n",
    "#         [9, 11],\n",
    "#         [10, 10]]\n",
    "\n",
    "# rot_hull = [get_rt(0, node) for node in hull]\n",
    "# rot_hull = np.array(rot_hull)\n",
    "\n",
    "# pucks_in_frame = np.array([[0.93900626, 0.99461677],\n",
    "#                              [1.04959243, 1.00593718],\n",
    "#                              [1.05693593, 1.12152614],\n",
    "#                              [0.94454928, 1.14355901]])\n",
    "\n",
    "# pucks_in_frame = np.array([[0.93900626, 0.99461677],\n",
    "#                              [1.04959243, 1.00593718],\n",
    "#                              [1.05693593, 1.12152614]])\n",
    "\n",
    "ind = find_outer(pucks_in_frame)\n",
    "rot_hull = np.array([pucks_in_frame[i] for i in ind])\n",
    "\n",
    "approach_dist = 0.11  # cm\n",
    "mc = np.mean(rot_hull, axis = 0)\n",
    "offset = list(rot_hull)  # a miserable attempt to copy a list\n",
    "offset -= mc  # Normalize the polygon by subtracting the center values from every point.\n",
    "offset *= 2\n",
    "offset += mc"
   ]
  },
  {
   "cell_type": "code",
   "execution_count": 5,
   "metadata": {},
   "outputs": [],
   "source": [
    "landings_coordinates = []\n",
    "for orig, ofs in zip(rot_hull, offset):\n",
    "#     print(\" \")\n",
    "#     print(\"orig\")\n",
    "#     print(orig)\n",
    "#     print(\" \")\n",
    "#     print(\"ofs\")\n",
    "#     print(ofs)\n",
    "    dist, _ = calculate_distance(ofs, orig)\n",
    "#     print(dist)\n",
    "    gamma = np.arctan2(dist[1], dist[0])  # and here we calculate slope of outer bis\n",
    "    # print(\"gamma = \", np.rad2deg(gamma))\n",
    "    x_landing1 = np.sqrt(approach_dist**2 / (1 + np.tan(gamma)**2))\n",
    "    x_landing2 = - np.sqrt(approach_dist**2 / (1 + np.tan(gamma)**2))\n",
    "    \n",
    "    y_landing1 = np.tan(gamma) * x_landing1 \n",
    "    y_landing2 = np.tan(gamma) * x_landing2\n",
    "    \n",
    "    landing1 = np.array([x_landing1 + orig[0], y_landing1 + orig[1], gamma])  # np.rad2deg\n",
    "    landing2 = np.array([x_landing2 + orig[0], y_landing2 + orig[1], gamma])\n",
    "    landings_coordinates.append(landing1)\n",
    "    landings_coordinates.append(landing2)\n",
    "    \n",
    "landings = np.array(landings_coordinates)\n",
    "# print(landings)\n",
    "ind_land = find_outer(landings[:, :2])\n",
    "# print(ind_land)\n",
    "landings = np.array([landings_coordinates[i] for i in ind_land])"
   ]
  },
  {
   "cell_type": "code",
   "execution_count": 6,
   "metadata": {},
   "outputs": [],
   "source": [
    "pucks_in_frame = np.array([[0.9, 0.9],\n",
    "                            [1.06, 0.98],\n",
    "                            [0.98, 0.82],\n",
    "                            [0.98, 0.9]])\n",
    "\n",
    "# landings = np.array([[ 0.79,  0.9 ,  0.  ], \n",
    "#                      [ 0.98      ,  0.71      ,  1.57079633], \n",
    "#                      [ 1.13778175,  1.05778175,  3.92699082]])\n",
    "\n",
    "landings = np.array([[ 0.94521495,  0.71564484,  1.24904577], \n",
    "                     [ 1.12101702,  1.07152553,  4.12438638]])\n",
    "\n",
    "cands = np.array([[ 1.09      ,  0.9       ,  6.28318531],\n",
    "                    [ 0.87      ,  0.9       ,  6.28318531]])"
   ]
  },
  {
   "cell_type": "code",
   "execution_count": 7,
   "metadata": {},
   "outputs": [
    {
     "data": {
      "text/plain": [
       "<matplotlib.figure.Figure at 0x7f7e31f12310>"
      ]
     },
     "metadata": {},
     "output_type": "display_data"
    },
    {
     "data": {
      "image/png": "[encoded data removed]",
      "text/plain": [
       "<matplotlib.figure.Figure at 0x7f7e31f122d0>"
      ]
     },
     "metadata": {},
     "output_type": "display_data"
    }
   ],
   "source": [
    "fig = plt.gcf()\n",
    "fig, ax = plt.subplots()\n",
    "fig.set_size_inches(12, 12)\n",
    "\n",
    "# ax.scatter(offset[:, 0], offset[:, 1], c = \"r\", marker=\"s\",  s=50)\n",
    "# ax.scatter(test[:, 0], test[:, 1], c = \"r\", marker=\"s\",  s=50)\n",
    "\n",
    "# ax.scatter(hull[:, 0], hull[:, 1], c = \"r\")\n",
    "\n",
    "# ax.scatter(rot_hull[:, 0], rot_hull[:, 1], c = \"b\", marker=\"o\",  s=50)\n",
    "ax.scatter(pucks_in_frame[:, 0], pucks_in_frame[:, 1], marker=\"x\",  s=200)\n",
    "ax.scatter(landings[:, 0], landings[:, 1], c = \"r\", marker=\"x\",  s=400)\n",
    "ax.scatter(cands[:, 0], cands[:, 1], c = \"orange\", marker=\"x\",  s=400)\n",
    "\n",
    "# # good\n",
    "# for landing in landings:\n",
    "#     # print(landing)\n",
    "#     x = landing[0]\n",
    "#     y = landing[1]\n",
    "#     theta = landing[2]\n",
    "#     # print(theta)\n",
    "#     plot_vehicle(x, y, theta)\n",
    "\n",
    "# for rot, ofs in zip(rot_hull, offset):\n",
    "#     # print(rot, ofs)\n",
    "#     x = [rot[0], ofs[0]]\n",
    "#     y = [rot[1], ofs[1]]\n",
    "#     ax.plot(x, y)\n",
    "\n",
    "# landings2 = list(landings)\n",
    "# for i in landings2:\n",
    "#     print(\"i is\")\n",
    "#     print(i)\n",
    "#     print(\"\")\n",
    "    #ax.plot(k+mc[0], np.tan(i[2])*k+mc[1])\n",
    "    \n",
    "#ax.scatter(offset[:, 0], offset[:, 1], c = \"y\")\n",
    "ax.set_aspect('equal')\n",
    "plt.show()"
   ]
  },
  {
   "cell_type": "code",
   "execution_count": 8,
   "metadata": {},
   "outputs": [
    {
     "data": {
      "text/plain": [
       "<matplotlib.figure.Figure at 0x7f7e31e5f310>"
      ]
     },
     "metadata": {},
     "output_type": "display_data"
    },
    {
     "data": {
      "image/png": "[encoded data removed]",
      "text/plain": [
       "<matplotlib.figure.Figure at 0x7f7e31e4df50>"
      ]
     },
     "metadata": {},
     "output_type": "display_data"
    }
   ],
   "source": [
    "fig = plt.gcf()\n",
    "fig, ax = plt.subplots()\n",
    "fig.set_size_inches(10, 10)\n",
    "\n",
    "landing = np.array([0, 0, 1.57])\n",
    "x = landing[0]\n",
    "y = landing[1]\n",
    "theta = landing[2]\n",
    "    \n",
    "plot_vehicle(x, y, theta)\n",
    "\n",
    "ax.set_aspect('equal')\n",
    "plt.grid()\n",
    "plt.show()"
   ]
  },
  {
   "cell_type": "code",
   "execution_count": 9,
   "metadata": {},
   "outputs": [],
   "source": [
    "# from math import tan\n",
    "# fig = plt.gcf()\n",
    "# fig, ax = plt.subplots()\n",
    "# for i in landings2:\n",
    "#     print(\"i is\")\n",
    "#     print(tan(i[2]))\n",
    "#     print(\"\")\n",
    "#     ax.plot(t+mc[0], tan(i[2])*t+mc[1])\n",
    "    \n",
    "# #ax.scatter(offset[:, 0], offset[:, 1], c = \"y\")\n",
    "\n",
    "# plt.show()"
   ]
  },
  {
   "cell_type": "markdown",
   "metadata": {},
   "source": [
    "            # a = self.known_coords_of_chaos_pucks\n",
    "            # b = self.sorted_chaos_landing_coordinates\n",
    "            # a, b = self.execute_current_puck_cmd(a, b)\n",
    "            # this doesn't work"
   ]
  },
  {
   "cell_type": "code",
   "execution_count": 10,
   "metadata": {},
   "outputs": [],
   "source": [
    "candidates = np.array([[ 0.83128354,  1.18589557,  5.38712992],\n",
    "                         [ 0.96871646,  1.01410443,  5.38712992], \n",
    "                         [ 1.16871646,  0.76410443,  2.24553727], \n",
    "                         [ 1.03128354,  0.93589557,  2.24553727]])"
   ]
  },
  {
   "cell_type": "code",
   "execution_count": 11,
   "metadata": {},
   "outputs": [
    {
     "data": {
      "text/plain": [
       "[False]"
      ]
     },
     "execution_count": 11,
     "metadata": {},
     "output_type": "execute_result"
    }
   ],
   "source": [
    "is_horizontal = [True if abs(candidates[0][2]) < 1e-4 else False]\n",
    "is_horizontal"
   ]
  },
  {
   "cell_type": "code",
   "execution_count": 12,
   "metadata": {},
   "outputs": [
    {
     "name": "stdout",
     "output_type": "stream",
     "text": [
      "[False]\n",
      "[0, 2]\n",
      "[ 0.83128354  1.18589557  5.38712992]\n",
      "[ 1.16871646  0.76410443  2.24553727]\n"
     ]
    }
   ],
   "source": [
    "indexes = []\n",
    "# test = candidates[:, :2]\n",
    "is_horizontal = [True if abs(candidates[0][2]) < 1e-4 else False]\n",
    "print(is_horizontal)\n",
    "if is_horizontal:\n",
    "    srt = np.argsort(candidates[:,0],axis=0)\n",
    "else:\n",
    "    srt = np.argsort(candidates[:,1],axis=0)\n",
    "srt\n",
    "\n",
    "# in numpy array no key argument. make list and proceed with lambda\n",
    "# test = list(candidates[:, :2])\n",
    "# test.sort(key = lambda (t, k): t**2 + k**2)\n",
    "# landing_max = candidates[:, :2].sort(key = lambda t, k: t**2 + k**2, reverse=True)\n",
    "\n",
    "indexes.append(srt[0])\n",
    "indexes.append(srt[-1])\n",
    "print(indexes)\n",
    "print(candidates[0])\n",
    "print(candidates[2])"
   ]
  },
  {
   "cell_type": "code",
   "execution_count": 13,
   "metadata": {},
   "outputs": [
    {
     "data": {
      "text/plain": [
       "array([ 0.9,  1.1,  2. ])"
      ]
     },
     "execution_count": 13,
     "metadata": {},
     "output_type": "execute_result"
    }
   ],
   "source": [
    "point = np.array([ 0.9,  1.1])\n",
    "point = np.hstack((point,2))\n",
    "point"
   ]
  },
  {
   "cell_type": "code",
   "execution_count": 14,
   "metadata": {},
   "outputs": [
    {
     "data": {
      "text/plain": [
       "array([[5, 4, 3]])"
      ]
     },
     "execution_count": 14,
     "metadata": {},
     "output_type": "execute_result"
    }
   ],
   "source": [
    "x2 = np.array([5, 4, 3])\n",
    "x2_new = x2[np.newaxis, :]\n",
    "x2_new"
   ]
  },
  {
   "cell_type": "markdown",
   "metadata": {},
   "source": [
    "## Calculating area of a polygon and choosing threshold"
   ]
  },
  {
   "cell_type": "code",
   "execution_count": 15,
   "metadata": {},
   "outputs": [],
   "source": [
    "def polygon_area(x,y):\n",
    "    # coordinate shift\n",
    "    x_ = x - x.mean()\n",
    "    y_ = y - y.mean()\n",
    "    # everything else is the same as maxb's code\n",
    "    correction = x_[-1] * y_[0] - y_[-1]* x_[0]\n",
    "    main_area = np.dot(x_[:-1], y_[1:]) - np.dot(y_[:-1], x_[1:])\n",
    "    return 0.5*np.abs(main_area + correction)"
   ]
  },
  {
   "cell_type": "code",
   "execution_count": 16,
   "metadata": {},
   "outputs": [
    {
     "data": {
      "text/plain": [
       "['',\n",
       " '/opt/ros/kinetic/lib/python2.7/dist-packages',\n",
       " '/home/safoex/eurobot2019_ws/src/ros-eurobot-2019/libs',\n",
       " '/usr/lib/python2.7',\n",
       " '/usr/lib/python2.7/plat-x86_64-linux-gnu',\n",
       " '/usr/lib/python2.7/lib-tk',\n",
       " '/usr/lib/python2.7/lib-old',\n",
       " '/usr/lib/python2.7/lib-dynload',\n",
       " '/usr/local/lib/python2.7/dist-packages',\n",
       " '/usr/lib/python2.7/dist-packages',\n",
       " '/usr/lib/python2.7/dist-packages/PILcompat',\n",
       " '/usr/lib/python2.7/dist-packages/gtk-2.0',\n",
       " '/usr/lib/python2.7/dist-packages/wx-3.0-gtk2',\n",
       " '/usr/local/lib/python2.7/dist-packages/IPython/extensions',\n",
       " '/home/safoex/.ipython']"
      ]
     },
     "execution_count": 16,
     "metadata": {},
     "output_type": "execute_result"
    }
   ],
   "source": [
    "import sys\n",
    "sys.path"
   ]
  },
  {
   "cell_type": "markdown",
   "metadata": {},
   "source": [
    "## Calculating angles of a polygon and sorting them"
   ]
  },
  {
   "cell_type": "code",
   "execution_count": 17,
   "metadata": {},
   "outputs": [],
   "source": [
    "import numpy as np"
   ]
  },
  {
   "cell_type": "code",
   "execution_count": 18,
   "metadata": {},
   "outputs": [],
   "source": [
    "from sympy import Point, Polygon\n",
    "from math import radians, degrees"
   ]
  },
  {
   "cell_type": "code",
   "execution_count": 19,
   "metadata": {},
   "outputs": [],
   "source": [
    "pucks_in_frame2 = np.array([[0.9, 0.9],\n",
    "                            [1.06, 0.98],\n",
    "                            [0.98, 0.82],\n",
    "                            [0.98, 0.9]])\n",
    "\n",
    "pucks_in_frame = np.array([ [1.06, 0.98],\n",
    "                            [0.98, 0.82],\n",
    "                            [0.98, 0.9]])\n",
    "\n",
    "candidates = np.array([[ 0.94521495,  0.71564484,  1.24904577],\n",
    "                         [ 1.12101702,  1.07152553,  4.12438638],\n",
    "                         [ 0.87,        0.9,         6.28318531]])\n",
    "\n",
    "test = np.array([[ 0.87,        0.9,         6.28318531],\n",
    "                 [ 0.94521495,  0.71564484,  1.24904577],\n",
    "                 [ 1.12101702,  1.07152553,  4.12438638]])\n",
    "\n",
    "one_inside = np.array([[0.7, 0.8],\n",
    "                        [0.9, 0.9],\n",
    "                        [1.1, 0.85],\n",
    "                        [0.9, 1.1]])"
   ]
  },
  {
   "cell_type": "code",
   "execution_count": 20,
   "metadata": {},
   "outputs": [
    {
     "name": "stdout",
     "output_type": "stream",
     "text": [
      "('hull is: ', [array([ 0.9,  0.9]), array([ 1.06,  0.98]), array([ 0.98,  0.82]), array([ 0.98,  0.9 ])])\n",
      " \n",
      "\n",
      "(Point2D(9/10, 9/10), Point2D(53/50, 49/50), Point2D(49/50, 41/50), Point2D(49/50, 9/10))\n"
     ]
    },
    {
     "data": {
      "image/svg+xml": [
       "<svg xmlns=\"http://www.w3.org/2000/svg\"\n",
       "            xmlns:xlink=\"http://www.w3.org/1999/xlink\"\n",
       "            width=\"100.0\" height=\"100.0\" viewBox=\"0.884000000000000 0.804000000000000 0.192000000000000 0.192000000000000\"\n",
       "            preserveAspectRatio=\"xMinYMin meet\">\n",
       "            <defs>\n",
       "                <marker id=\"markerCircle\" markerWidth=\"8\" markerHeight=\"8\"\n",
       "                    refx=\"5\" refy=\"5\" markerUnits=\"strokeWidth\">\n",
       "                    <circle cx=\"5\" cy=\"5\" r=\"1.5\" style=\"stroke: none; fill:#000000;\"/>\n",
       "                </marker>\n",
       "                <marker id=\"markerArrow\" markerWidth=\"13\" markerHeight=\"13\" refx=\"2\" refy=\"4\"\n",
       "                       orient=\"auto\" markerUnits=\"strokeWidth\">\n",
       "                    <path d=\"M2,2 L2,6 L6,4\" style=\"fill: #000000;\" />\n",
       "                </marker>\n",
       "                <marker id=\"markerReverseArrow\" markerWidth=\"13\" markerHeight=\"13\" refx=\"6\" refy=\"4\"\n",
       "                       orient=\"auto\" markerUnits=\"strokeWidth\">\n",
       "                    <path d=\"M6,2 L6,6 L2,4\" style=\"fill: #000000;\" />\n",
       "                </marker>\n",
       "            </defs><g transform=\"matrix(1,0,0,-1,0,1.80000000000000)\"><path fill-rule=\"evenodd\" fill=\"#66cc99\" stroke=\"#555555\" stroke-width=\"0.00384000000000000\" opacity=\"0.6\" d=\"M 0.900000000000000,0.900000000000000 L 1.06000000000000,0.980000000000000 L 0.980000000000000,0.820000000000000 L 0.980000000000000,0.900000000000000 z\" /></g></svg>"
      ],
      "text/plain": [
       "Polygon(Point2D(9/10, 9/10), Point2D(53/50, 49/50), Point2D(49/50, 41/50), Point2D(49/50, 9/10))"
      ]
     },
     "execution_count": 20,
     "metadata": {},
     "output_type": "execute_result"
    }
   ],
   "source": [
    "# this depicts an arrow! :)\n",
    "\n",
    "hull = list(pucks_in_frame2)\n",
    "print(\"hull is: \", hull)\n",
    "p1, p2, p3, p4 = map(Point, hull)  # need to unpack hull?\n",
    "print(\" \\n\")\n",
    "print(p1, p2, p3, p4)\n",
    "poly = Polygon(p1, p2, p3, p4)\n",
    "poly\n",
    "# angles = calculate_and_sort_by_inner_angles(hull)\n",
    "# angles"
   ]
  },
  {
   "cell_type": "code",
   "execution_count": 21,
   "metadata": {},
   "outputs": [
    {
     "name": "stdout",
     "output_type": "stream",
     "text": [
      "[array([ 0.87      ,  0.9       ,  6.28318531]), array([ 0.94521495,  0.71564484,  1.24904577]), array([ 1.12101702,  1.07152553,  4.12438638])]\n",
      " \n",
      "vertices_angles\n",
      "[[(1.12101702, 1.07152553) 0.5125220134823292]\n",
      " [(0.94521495, 0.71564484) 0.8462040981306261]\n",
      " [(0.87, 0.9) 1.7828665419768381]]\n",
      " \n",
      "(True, array([[ 1.12101702,  1.07152553],\n",
      "       [ 0.94521495,  0.71564484],\n",
      "       [ 0.87      ,  0.9       ]]))\n"
     ]
    }
   ],
   "source": [
    "def calculate_and_sort_by_inner_angles(test):\n",
    "    \"\"\"\n",
    "    Input:\n",
    "    hull\n",
    "\n",
    "    Calculates inner angles of a convex hull\n",
    "    Sorts them\n",
    "    Removes DANGEROUS angles that are below threshold safe level\n",
    "\n",
    "    :return: sorted list of safe angles starting with sharpest one\n",
    "    \"\"\"\n",
    "    candidates = np.array(test)\n",
    "    if len(hull) == 4:        \n",
    "        p1, p2, p3, p4 = map(Point, candidates[:, :2])  # need to unpack hull?\n",
    "        poly = Polygon(p1, p2, p3, p4)\n",
    "    elif len(hull) == 3:\n",
    "        p1, p2, p3 = map(Point, candidates[:, :2])  # need to unpack hull?\n",
    "        poly = Polygon(p1, p2, p3)        \n",
    "    \n",
    "    vertices_angles_raw = poly.angles.items()\n",
    "    vertices_angles = [[(float(k[0].x), float(k[0].y)), radians(degrees(k[1]))] for k in vertices_angles_raw]\n",
    "    vertices_angles.sort(key=lambda t: t[1])  # sorts by calculated angle\n",
    "    vertices_angles = np.array(vertices_angles)\n",
    "\n",
    "    print(\"vertices_angles\")\n",
    "    print(vertices_angles)  # [[(1.12101702, 1.07152553), 0.5125220134823292], ...]\n",
    "    print(\" \")\n",
    "    \n",
    "    if any(vertices_angles[:3, 1] > 2):\n",
    "        is_hull_safe_to_approach = False\n",
    "    elif all(vertices_angles[:3, 1] < 2):\n",
    "        is_hull_safe_to_approach = True\n",
    "    \n",
    "    sorted_vertices_by_angle = np.array([v[0] for v in vertices_angles])\n",
    "    return is_hull_safe_to_approach, sorted_vertices_by_angle\n",
    "\n",
    "\n",
    "hull = list(test)\n",
    "print(hull)\n",
    "print(\" \")\n",
    "flag, landings_sorted_by_angles = calculate_and_sort_by_inner_angles(hull)\n",
    "print(flag, landings_sorted_by_angles)"
   ]
  },
  {
   "cell_type": "code",
   "execution_count": 22,
   "metadata": {},
   "outputs": [
    {
     "data": {
      "text/plain": [
       "array([[ 1.12101702,  1.07152553],\n",
       "       [ 0.94521495,  0.71564484]])"
      ]
     },
     "execution_count": 22,
     "metadata": {},
     "output_type": "execute_result"
    }
   ],
   "source": [
    "landings_sorted_by_angles[:2]"
   ]
  },
  {
   "cell_type": "code",
   "execution_count": 23,
   "metadata": {},
   "outputs": [
    {
     "name": "stdout",
     "output_type": "stream",
     "text": [
      "False\n"
     ]
    }
   ],
   "source": [
    "if all([1>0, 2>1, 3>4]):\n",
    "    print(True)\n",
    "else:\n",
    "    print(False)"
   ]
  },
  {
   "cell_type": "code",
   "execution_count": 24,
   "metadata": {},
   "outputs": [],
   "source": [
    "testt = [1, 2, 3, 4]\n",
    "indexes = []"
   ]
  },
  {
   "cell_type": "code",
   "execution_count": 25,
   "metadata": {},
   "outputs": [
    {
     "data": {
      "text/plain": [
       "[1, 4, 2, 3]"
      ]
     },
     "execution_count": 25,
     "metadata": {},
     "output_type": "execute_result"
    }
   ],
   "source": [
    "indexes = []\n",
    "indexes.append(testt.pop(0))\n",
    "indexes.append(testt.pop(-1))\n",
    "indexes.append(testt.pop(0))\n",
    "indexes.append(testt.pop(0))\n",
    "# 1 4 2 3\n",
    "indexes"
   ]
  },
  {
   "cell_type": "code",
   "execution_count": 26,
   "metadata": {},
   "outputs": [
    {
     "data": {
      "text/plain": [
       "array([[0, 1, 2],\n",
       "       [3, 4, 5],\n",
       "       [6, 7, 8]])"
      ]
     },
     "execution_count": 26,
     "metadata": {},
     "output_type": "execute_result"
    }
   ],
   "source": [
    "x = np.arange(9)\n",
    "x2 = np.reshape(x, (3,3))\n",
    "x2"
   ]
  },
  {
   "cell_type": "code",
   "execution_count": 27,
   "metadata": {},
   "outputs": [],
   "source": [
    "next1 = np.roll(x2, -1, axis=0)\n",
    "prev1 = np.roll(x2, 1, axis=0)"
   ]
  },
  {
   "cell_type": "code",
   "execution_count": 28,
   "metadata": {},
   "outputs": [
    {
     "data": {
      "text/plain": [
       "array([[6, 7, 8],\n",
       "       [0, 1, 2],\n",
       "       [3, 4, 5]])"
      ]
     },
     "execution_count": 28,
     "metadata": {},
     "output_type": "execute_result"
    }
   ],
   "source": [
    "prev1"
   ]
  },
  {
   "cell_type": "code",
   "execution_count": 29,
   "metadata": {},
   "outputs": [
    {
     "data": {
      "text/plain": [
       "array([[3, 4, 5],\n",
       "       [6, 7, 8],\n",
       "       [0, 1, 2]])"
      ]
     },
     "execution_count": 29,
     "metadata": {},
     "output_type": "execute_result"
    }
   ],
   "source": [
    "next1"
   ]
  },
  {
   "cell_type": "code",
   "execution_count": 30,
   "metadata": {},
   "outputs": [
    {
     "data": {
      "text/plain": [
       "array([[0, 1, 2],\n",
       "       [3, 4, 5],\n",
       "       [6, 7, 8]])"
      ]
     },
     "execution_count": 30,
     "metadata": {},
     "output_type": "execute_result"
    }
   ],
   "source": [
    "x2"
   ]
  },
  {
   "cell_type": "markdown",
   "metadata": {},
   "source": [
    "## Check if the next puck is blue one"
   ]
  },
  {
   "cell_type": "code",
   "execution_count": 31,
   "metadata": {},
   "outputs": [
    {
     "name": "stdout",
     "output_type": "stream",
     "text": [
      "True\n"
     ]
    }
   ],
   "source": [
    "puck = np.array([[0, 0.95, 1.1, 0, 0, 1], [1, 0.9, 1.3, 0, 1, 0]])\n",
    "if all(puck[0][3:6] == [0, 0, 1]):\n",
    "    print(True)\n",
    "else:\n",
    "    print(False)"
   ]
  },
  {
   "cell_type": "code",
   "execution_count": 32,
   "metadata": {},
   "outputs": [],
   "source": [
    "def rotate(a, b, c):\n",
    "    return (b[0] - a[0]) * (c[1] - b[1]) - (b[1] - a[1]) * (c[0] - b[0])\n",
    "\n",
    "def calculate_convex_hull(coords):\n",
    "    \"\"\"\n",
    "    jarvis march\n",
    "    input: [(x0, y0), (x1, y1), ...]\n",
    "    :return: convex hull, INDEXES of coordinates in input list, not coords themselves, TODO counter or clockwise, need to figure out\n",
    "    \"\"\"\n",
    "    n = len(coords)\n",
    "    p = range(n)\n",
    "    # start point\n",
    "    for i in range(1, n):\n",
    "        if coords[p[i]][0] < coords[p[0]][0]:\n",
    "            p[i], p[0] = p[0], p[i]\n",
    "    h = [p[0]]\n",
    "    del p[0]\n",
    "    p.append(h[0])\n",
    "    while True:\n",
    "        right = 0\n",
    "        for i in range(1, len(p)):\n",
    "            if rotate(coords[h[-1]], coords[p[right]], coords[p[i]]) < 0:  # FIXME\n",
    "                right = i\n",
    "        if p[right] == h[0]:\n",
    "            break\n",
    "        else:\n",
    "            h.append(p[right])\n",
    "            del p[right]\n",
    "\n",
    "    # hull = [coords[i] for i in h]  # this was used to extract coords from input list using calculated indexes\n",
    "    return h\n",
    "\n",
    "def wrap_angle(angle):\n",
    "\n",
    "    \"\"\"\n",
    "    Wraps the given angle to the range [-pi, +pi].\n",
    "    :param angle: The angle (in rad) to wrap (can be unbounded).\n",
    "    :return: The wrapped angle (guaranteed to in [-pi, +pi]).\n",
    "    \"\"\"\n",
    "\n",
    "    return (angle + np.pi) % (2 * np.pi) - np.pi\n",
    "\n",
    "\n",
    "def wrap_back(angle):\n",
    "    \"\"\"\n",
    "\n",
    "    :param angle: (-pi, pi)\n",
    "    :return: (0, 2*pi)\n",
    "    \"\"\"\n",
    "    return (angle + 2 * np.pi) % (2 * np.pi)\n",
    "\n",
    "\n",
    "def calculate_distance(coords1, coords2):\n",
    "    \"\"\"\n",
    "    Calculates x_diff, y_diff between two points\n",
    "    Calculates x_diff, y_diff and theta_diff between two vectors and wrapes angle so it lies\n",
    "    :param coords1:\n",
    "    :param coords2:\n",
    "    :return:\n",
    "    \"\"\"\n",
    "    #print(coords1)\n",
    "    #print(coords2)\n",
    "    theta_diff = None\n",
    "    distance_map_frame = coords2[:2] - coords1[:2]\n",
    "    # distance_map_frame = coords2[:, :2] - coords1[:, :2]\n",
    "\n",
    "    if len(coords1) == 3 and len(coords2) == 3:\n",
    "        theta_diff = wrap_angle(coords2[2] - coords1[2])\n",
    "    return distance_map_frame, theta_diff\n",
    "\n",
    "def batch_calculate_distance(coords1, coords2):\n",
    "    \"\"\"\n",
    "    Calculates x_diff, y_diff between two points\n",
    "    Calculates x_diff, y_diff and theta_diff between two vectors and wrapes angle so it lies\n",
    "    :param coords1:\n",
    "    :param coords2:\n",
    "    :return:\n",
    "    \"\"\"\n",
    "    #print(coords1)\n",
    "    #print(coords2)\n",
    "    distance_map_frame = coords2[:, :2] - coords1[:, :2]\n",
    "    return distance_map_frame\n",
    "\n",
    "def polygon_area(hull):\n",
    "    x = np.array([h[0] for h in hull])\n",
    "    y = np.array([h[1] for h in hull])  # because slicing doesn't work for some reason\n",
    "    # coordinate shift\n",
    "    x_ = x - np.mean(x)\n",
    "    y_ = y - np.mean(y)\n",
    "    correction = x_[-1] * y_[0] - y_[-1] * x_[0]\n",
    "    main_area = np.dot(x_[:-1], y_[1:]) - np.dot(y_[:-1], x_[1:])\n",
    "    return 0.5*np.abs(main_area + correction)"
   ]
  },
  {
   "cell_type": "markdown",
   "metadata": {},
   "source": [
    "## Test to calculate inner angles"
   ]
  },
  {
   "cell_type": "code",
   "execution_count": 33,
   "metadata": {},
   "outputs": [],
   "source": [
    "# def calc_inner_angles(coords):\n",
    "#     print(\"coords\")\n",
    "#     print(coords)\n",
    "    \n",
    "#     hull_indexes = calculate_convex_hull(coords)\n",
    "#     hull = np.array([coords[i] for i in hull_indexes])  # using returned indexes to extract hull's coords\n",
    "#     print(\"hull\")\n",
    "#     print(hull)\n",
    "    \n",
    "#     next_ = np.roll(hull, -1, axis=0)\n",
    "#     prev_ = np.roll(hull, 1, axis=0)\n",
    "#     print(\"prev_\")\n",
    "#     #print(prev_)\n",
    "#     print(prev_[:, :2])\n",
    "#     print(\"next\")\n",
    "#     print(next_)\n",
    "    \n",
    "#     prev_dist, _ = calculate_distance(hull[:, :2], prev_[:, :2])\n",
    "#     next_dist, _ = calculate_distance(hull[:, :2], next_[:, :2])\n",
    "#     print(\" \")\n",
    "#     print(\"prev_dist\")\n",
    "#     print(prev_dist)\n",
    "#     print(\"prev_dist[:, 1]\")\n",
    "#     print(prev_dist[:, 1])\n",
    "#     print(\" \")\n",
    "#     print(\"next_dist\")\n",
    "#     print(next_dist)\n",
    "    \n",
    "    \n",
    "#     prev_a = np.arctan2(prev_dist[:, 1], prev_dist[:, 0])\n",
    "#     next_a = np.arctan2(next_dist[:, 1], next_dist[:, 0])\n",
    "#     #angles = next_a - prev_a\n",
    "#     print(\"prev_a\")\n",
    "#     print(prev_a)\n",
    "    \n",
    "#     angles = wrap_angle(prev_a - next_a)\n",
    "#     print(\"angles\")\n",
    "#     print(angles)\n",
    "    \n",
    "#     coords_angles = list(zip(hull, angles))\n",
    "#     coords_angles.sort(key = lambda t: t[1])\n",
    "#     print(\"coords_angles\")\n",
    "#     print(coords_angles)\n",
    "#     print(\" \")\n",
    "#     coords_sorted = np.array([v[0] for v in coords_angles])\n",
    "\n",
    "#     return coords_sorted"
   ]
  },
  {
   "cell_type": "code",
   "execution_count": 41,
   "metadata": {},
   "outputs": [],
   "source": [
    "def calc_inner_angles(coords):\n",
    "    is_line = polygon_area(coords)\n",
    "    # print(is_streigt_line)\n",
    "    # is_streigt_line = True\n",
    "    if is_line < 1e-4:\n",
    "        # print(\"indeed straigt\")\n",
    "        raise AttributeError('pucks lie on a straigt line, so no angles')\n",
    "    \n",
    "    else:\n",
    "        hull_indexes = calculate_convex_hull(coords)\n",
    "        hull = np.array([coords[i] for i in hull_indexes])  # using returned indexes to extract hull's coords\n",
    "\n",
    "        next_ = np.roll(hull, -1, axis=0)\n",
    "        prev_ = np.roll(hull, 1, axis=0)\n",
    "\n",
    "        prev_dist = batch_calculate_distance(hull[:, :2], prev_[:, :2])\n",
    "        next_dist = batch_calculate_distance(hull[:, :2], next_[:, :2])\n",
    "\n",
    "        prev_a = np.arctan2(prev_dist[:, 1], prev_dist[:, 0])\n",
    "        next_a = np.arctan2(next_dist[:, 1], next_dist[:, 0])\n",
    "        angles = wrap_angle(prev_a - next_a)\n",
    "\n",
    "        coords_angles = list(zip(hull, angles))\n",
    "        coords_angles.sort(key = lambda t: t[1])\n",
    "\n",
    "        coords_sorted = np.array([v[0] for v in coords_angles])\n",
    "        angles_sorted = np.array([v[1] for v in coords_angles])\n",
    "    \n",
    "        return coords_sorted, angles_sorted"
   ]
  },
  {
   "cell_type": "code",
   "execution_count": 44,
   "metadata": {},
   "outputs": [
    {
     "name": "stdout",
     "output_type": "stream",
     "text": [
      "ok\n"
     ]
    }
   ],
   "source": [
    "coords = np.array([[0.7, 0.8, 0, 0],\n",
    "                    [0.8, 0.95, 1, 0],\n",
    "                    [0.9, 0.85, 2, 0],\n",
    "                    [1, 1.1, 3, 0]])\n",
    "\n",
    "pucks_in_frame3 = np.array([[0.9, 0.9, 0, 0, 1, 0],\n",
    "                            [1.06, 0.98, 1, 1, 0, 0],\n",
    "                            [0.98, 0.82, 2, 0, 0, 1],\n",
    "                            [0.98, 0.9, 3, 0, 1, 0]])\n",
    "\n",
    "# horizontal line - fails\n",
    "coordinates_list6 = np.array([[0.9, 0.9],\n",
    "                            [0.9, 1],\n",
    "                            [0.9, 1.1],\n",
    "                            [0.9, 1.2]])\n",
    "\n",
    "coordinates_list9 = np.array([[0.9, 0.9],\n",
    "                            [1, 1],\n",
    "                            [1.1, 1.1],\n",
    "                            [1.2, 1.2]])\n",
    "# works - 2-4 non-perfect diagonal\n",
    "coordinates_list10 = np.array([[0.91, 0.9],\n",
    "                            [0.99, 1],\n",
    "                            [1.12, 1.1],\n",
    "                            [1.18, 1.2]])\n",
    "\n",
    "\n",
    "coordinates_list3 = np.array([[0.9, 0.9],\n",
    "                            [0.9, 0.82],\n",
    "                            [0.98, 0.82],\n",
    "                            [0.98, 0.9]])\n",
    "\n",
    "try:\n",
    "    c, a = calc_inner_angles(coordinates_list9)\n",
    "    c, a\n",
    "except AttributeError:\n",
    "    print(\"ok\")"
   ]
  },
  {
   "cell_type": "code",
   "execution_count": 45,
   "metadata": {},
   "outputs": [
    {
     "data": {
      "text/plain": [
       "<matplotlib.figure.Figure at 0x7f7e30a3a150>"
      ]
     },
     "metadata": {},
     "output_type": "display_data"
    },
    {
     "data": {
      "image/png": "[encoded data removed]",
      "text/plain": [
       "<matplotlib.figure.Figure at 0x7f7e30a3a190>"
      ]
     },
     "metadata": {},
     "output_type": "display_data"
    }
   ],
   "source": [
    "# a = coords[:, :2]\n",
    "a = coordinates_list3[:, :2]\n",
    "\n",
    "def transformation_matrix(x, y, theta):\n",
    "    return np.array([[np.cos(theta), -np.sin(theta), x],\n",
    "                     [np.sin(theta), np.cos(theta), y],\n",
    "                     [0, 0, 1]])\n",
    "\n",
    "def plot_vehicle(x, y, theta):\n",
    "    # Corners of triangular vehicle when pointing to the right (0 radians)\n",
    "\n",
    "    p1_i = np.array([0.03, 0, 1]).T\n",
    "    p2_i = np.array([-0.02, 0.01, 1]).T\n",
    "    p3_i = np.array([-0.02, -0.01, 1]).T\n",
    "\n",
    "    T = transformation_matrix(x, y, theta)\n",
    "    p1 = np.matmul(T, p1_i)\n",
    "    p2 = np.matmul(T, p2_i)\n",
    "    p3 = np.matmul(T, p3_i)\n",
    "\n",
    "    ax.plot([p1[0], p2[0]], [p1[1], p2[1]], 'g-')\n",
    "    ax.plot([p2[0], p3[0]], [p2[1], p3[1]], 'g-')\n",
    "    ax.plot([p3[0], p1[0]], [p3[1], p1[1]], 'g-')\n",
    "    \n",
    "fig = plt.gcf()\n",
    "fig, ax = plt.subplots()\n",
    "fig.set_size_inches(6, 6)\n",
    "\n",
    "# ax.scatter(offset[:, 0], offset[:, 1], c = \"r\", marker=\"s\",  s=50)\n",
    "#ax.scatter(test[:, 0], test[:, 1], c = \"r\", marker=\"s\",  s=50)\n",
    "\n",
    "#ax.scatter(rot_hull[:, 0], rot_hull[:, 1], c = \"b\", marker=\"o\",  s=50)\n",
    "ax.scatter(a[:, 0], a[:, 1], c = \"g\", marker=\"x\",  s=200)\n",
    "#ax.scatter(candidates[:, 0], candidates[:, 1], c = \"r\", marker=\"x\",  s=400)\n",
    "\n",
    "# for landing in landings:\n",
    "#     # print(landing)\n",
    "#     x = landing[0]\n",
    "#     y = landing[1]\n",
    "#     theta = landing[2]\n",
    "#     # print(theta)\n",
    "#     plot_vehicle(x, y, theta)\n",
    "    \n",
    "#ax.scatter(offset[:, 0], offset[:, 1], c = \"y\")\n",
    "ax.set_aspect('equal')\n",
    "plt.grid()\n",
    "plt.show()"
   ]
  }
 ],
 "metadata": {
  "kernelspec": {
   "display_name": "Python 2",
   "language": "python",
   "name": "python2"
  },
  "language_info": {
   "codemirror_mode": {
    "name": "ipython",
    "version": 2
   },
   "file_extension": ".py",
   "mimetype": "text/x-python",
   "name": "python",
   "nbconvert_exporter": "python",
   "pygments_lexer": "ipython2",
   "version": "2.7.12"
  }
 },
 "nbformat": 4,
 "nbformat_minor": 2
}
