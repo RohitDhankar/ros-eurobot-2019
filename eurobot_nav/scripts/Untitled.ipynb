{
 "cells": [
  {
   "cell_type": "code",
   "execution_count": 15,
   "metadata": {},
   "outputs": [],
   "source": [
    "\n",
    "import visilibity as vg\n",
    "import numpy as np\n",
    "from polygon_conversions import list_from_polygon, list_from_polygon_array, polygon_list_from_numpy, get_map\n",
    "import  matplotlib.pyplot as plt"
   ]
  },
  {
   "cell_type": "code",
   "execution_count": 2,
   "metadata": {},
   "outputs": [],
   "source": [
    "from path_planner import PathPlanning"
   ]
  },
  {
   "cell_type": "code",
   "execution_count": 3,
   "metadata": {},
   "outputs": [],
   "source": [
    "path_planner = PathPlanning(0.14)"
   ]
  },
  {
   "cell_type": "code",
   "execution_count": 4,
   "metadata": {},
   "outputs": [
    {
     "data": {
      "text/plain": [
       "array([[0.14 , 0.14 ],\n",
       "       [0.36 , 0.14 ],\n",
       "       [0.36 , 0.21 ],\n",
       "       [2.64 , 0.21 ],\n",
       "       [2.64 , 0.14 ],\n",
       "       [2.86 , 0.14 ],\n",
       "       [2.86 , 1.86 ],\n",
       "       [2.69 , 1.86 ],\n",
       "       [2.69 , 1.403],\n",
       "       [0.31 , 1.403],\n",
       "       [0.31 , 1.86 ],\n",
       "       [0.14 , 1.86 ],\n",
       "       [0.14 , 0.14 ]])"
      ]
     },
     "execution_count": 4,
     "metadata": {},
     "output_type": "execute_result"
    }
   ],
   "source": [
    "path_planner.create_path(np.array([1.4, 1.3, 0]), np.array([np.array([])]))"
   ]
  },
  {
   "cell_type": "code",
   "execution_count": null,
   "metadata": {},
   "outputs": [],
   "source": []
  }
 ],
 "metadata": {
  "kernelspec": {
   "display_name": "Python 2",
   "language": "python",
   "name": "python2"
  },
  "language_info": {
   "codemirror_mode": {
    "name": "ipython",
    "version": 2
   },
   "file_extension": ".py",
   "mimetype": "text/x-python",
   "name": "python",
   "nbconvert_exporter": "python",
   "pygments_lexer": "ipython2",
   "version": "2.7.12"
  }
 },
 "nbformat": 4,
 "nbformat_minor": 2
}
