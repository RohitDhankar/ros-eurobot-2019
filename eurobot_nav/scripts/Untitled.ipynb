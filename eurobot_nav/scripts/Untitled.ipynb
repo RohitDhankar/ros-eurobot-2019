{
 "cells": [
  {
   "cell_type": "code",
   "execution_count": 15,
   "metadata": {},
   "outputs": [],
   "source": [
    "\n",
    "import visilibity as vg\n",
    "import numpy as np\n",
    "from polygon_conversions import list_from_polygon, list_from_polygon_array, polygon_list_from_numpy, get_map\n",
    "import  matplotlib.pyplot as plt"
   ]
  },
  {
   "cell_type": "code",
   "execution_count": 94,
   "metadata": {},
   "outputs": [],
   "source": [
    "polygon_p = None"
   ]
  },
  {
   "cell_type": "code",
   "execution_count": 128,
   "metadata": {},
   "outputs": [],
   "source": [
    "class PathPlanning(object):\n",
    "    def __init__(self):\n",
    "        self.robot_radius = 0.15\n",
    "#         self.world = np.array([[self.robot_radius, self.robot_radius], [3. - self.robot_radius, self.robot_radius],\n",
    "#                   [3. - self.robot_radius, 2. - self.robot_radius], [2.55 + self.robot_radius, 2. - self.robot_radius],\n",
    "#                  [2.55 + self.robot_radius, 1.543 - self.robot_radius],\n",
    "#                                [0.45 - self.robot_radius, 1.543 - self.robot_radius],\n",
    "#                  [0.45 - self.robot_radius, 2. - self.robot_radius], [self.robot_radius, 2. - self.robot_radius]])\n",
    "        self.chaos_zone_purple = np.array([[1. - self.robot_radius, 1 - self.robot_radius], [1. - self.robot_radius, 1. + self.robot_radius], [1. + self.robot_radius, 1. + self.robot_radius], [1. + self.robot_radius, 1. - self.robot_radius]])\n",
    "        self.chaos_zone_yellow = np.array([[2. - self.robot_radius, 1 - self.robot_radius], [2. - self.robot_radius, 1. + self.robot_radius], [2. + self.robot_radius, 1. + self.robot_radius], [2. + self.robot_radius, 1. - self.robot_radius]])\n",
    "        self.epsilon = 0.0001\n",
    "        self.is_flipped = False\n",
    "        robot_radius = 0.15\n",
    "        self.world = np.array([[robot_radius, robot_radius], [3. - robot_radius, robot_radius], \n",
    "                  [3. - robot_radius, 2. - robot_radius], [2.55 + robot_radius, 2. - robot_radius],\n",
    "                 [2.55 + robot_radius, 1.543 - robot_radius], [0.45 - robot_radius, 1.543 - robot_radius],\n",
    "                 [0.45 - robot_radius, 2. - robot_radius], [robot_radius, 2. - robot_radius]])\n",
    "\n",
    "    @staticmethod\n",
    "    def points2vis_graph(points):\n",
    "        points_list = []\n",
    "        for point in points:\n",
    "            print point\n",
    "            points_list.append([vg.Point(x[0], x[1]) for x in point])\n",
    "        g = vg.Visibility_Graph()\n",
    "\n",
    "        polygon_list = []\n",
    "        for i in points_list:\n",
    "            print vg.Polygon(i).is_in_standard_form()\n",
    "            polygon_list.append(vg.Polygon(i))\n",
    "        print polygon_list    \n",
    "        g = vg.Environment(polygon_list)\n",
    "        return g\n",
    "\n",
    "    @staticmethod\n",
    "    def vg_path2points(path):\n",
    "        path_ = []\n",
    "        for i in path.path():\n",
    "            path_.append([i.x(), i.y(), 0])\n",
    "        return np.array(path_)\n",
    "\n",
    "    @staticmethod\n",
    "    def point2vg(point):\n",
    "        return vg.Point(point[0], point[1])\n",
    "\n",
    "    def create_path(self, start_point, goal_point, polygon):\n",
    "        p = []\n",
    "        p.append(self.world)\n",
    "        a = self.points2vis_graph(p)\n",
    "        vg_start_point = self.point2vg(start_point)\n",
    "        vg_goal_point = self.point2vg(goal_point)\n",
    "#         start_point = np.array([0.22, 1.72])\n",
    "#         goal_point = np.array([2.8, 1.3])\n",
    "        vg_start_point = self.point2vg(start_point)\n",
    "        vg_goal_point = self.point2vg(goal_point)\n",
    "#         vg_start_point = vg.Point(0.2, 1.7)\n",
    "#         vg_goal_point = vg.Point(2.8, 1.7)\n",
    "        vg_start_point.snap_to_boundary_of(a, self.epsilon)\n",
    "        vg_start_point.snap_to_vertices_of(a, self.epsilon)\n",
    "        isovis = vg.Visibility_Polygon(vg_start_point, a,self.epsilon)\n",
    "        polygon_vis = vg.Visibility_Polygon(vg_goal_point, a, self.epsilon)\n",
    "        shortest_path = a.shortest_path(vg_start_point, vg_goal_point, self.epsilon)\n",
    "        return self.vg_path2points(shortest_path)\n"
   ]
  },
  {
   "cell_type": "code",
   "execution_count": null,
   "metadata": {},
   "outputs": [],
   "source": []
  },
  {
   "cell_type": "code",
   "execution_count": 129,
   "metadata": {},
   "outputs": [],
   "source": [
    "path_planner = PathPlanning()"
   ]
  },
  {
   "cell_type": "code",
   "execution_count": 130,
   "metadata": {},
   "outputs": [
    {
     "name": "stdout",
     "output_type": "stream",
     "text": [
      "[[0.15  0.15 ]\n",
      " [2.85  0.15 ]\n",
      " [2.85  1.85 ]\n",
      " [2.7   1.85 ]\n",
      " [2.7   1.393]\n",
      " [0.3   1.393]\n",
      " [0.3   1.85 ]\n",
      " [0.15  1.85 ]]\n"
     ]
    }
   ],
   "source": [
    "print path_planner.world"
   ]
  },
  {
   "cell_type": "code",
   "execution_count": 131,
   "metadata": {},
   "outputs": [
    {
     "name": "stdout",
     "output_type": "stream",
     "text": [
      "[[0.15  0.15 ]\n",
      " [2.85  0.15 ]\n",
      " [2.85  1.85 ]\n",
      " [2.7   1.85 ]\n",
      " [2.7   1.393]\n",
      " [0.3   1.393]\n",
      " [0.3   1.85 ]\n",
      " [0.15  1.85 ]]\n",
      "True\n",
      "[<visilibity.Polygon; proxy of <Swig Object of type 'VisiLibity::Polygon *' at 0x7f2348f16660> >]\n"
     ]
    }
   ],
   "source": [
    "path = path_planner.create_path(np.array([2.8, 1.7, 0]), np.array([0.2, 1.7, 0]), [])"
   ]
  },
  {
   "cell_type": "code",
   "execution_count": 132,
   "metadata": {},
   "outputs": [
    {
     "data": {
      "text/plain": [
       "array([[2.8  , 1.7  , 0.   ],\n",
       "       [2.7  , 1.393, 0.   ],\n",
       "       [0.3  , 1.393, 0.   ],\n",
       "       [0.2  , 1.7  , 0.   ]])"
      ]
     },
     "execution_count": 132,
     "metadata": {},
     "output_type": "execute_result"
    }
   ],
   "source": [
    "path"
   ]
  },
  {
   "cell_type": "code",
   "execution_count": 133,
   "metadata": {},
   "outputs": [
    {
     "name": "stdout",
     "output_type": "stream",
     "text": [
      "[[0.15  0.15 ]\n",
      " [2.85  0.15 ]\n",
      " [2.85  1.85 ]\n",
      " [2.7   1.85 ]\n",
      " [2.7   1.393]\n",
      " [0.3   1.393]\n",
      " [0.3   1.85 ]\n",
      " [0.15  1.85 ]]\n"
     ]
    }
   ],
   "source": [
    "world = np.array(world)\n",
    "print world"
   ]
  },
  {
   "cell_type": "code",
   "execution_count": 134,
   "metadata": {},
   "outputs": [
    {
     "data": {
      "text/plain": [
       "[<matplotlib.lines.Line2D at 0x7f2348ffb190>]"
      ]
     },
     "execution_count": 134,
     "metadata": {},
     "output_type": "execute_result"
    },
    {
     "data": {
      "image/png": "[encoded data removed]",
      "text/plain": [
       "<Figure size 432x288 with 1 Axes>"
      ]
     },
     "metadata": {
      "needs_background": "light"
     },
     "output_type": "display_data"
    }
   ],
   "source": [
    "plt.plot(world[:, 0], world[:, 1])\n",
    "plt.plot(path[:,0], path[:, 1])"
   ]
  },
  {
   "cell_type": "code",
   "execution_count": null,
   "metadata": {},
   "outputs": [],
   "source": []
  },
  {
   "cell_type": "code",
   "execution_count": null,
   "metadata": {},
   "outputs": [],
   "source": []
  }
 ],
 "metadata": {
  "kernelspec": {
   "display_name": "Python 2",
   "language": "python",
   "name": "python2"
  },
  "language_info": {
   "codemirror_mode": {
    "name": "ipython",
    "version": 2
   },
   "file_extension": ".py",
   "mimetype": "text/x-python",
   "name": "python",
   "nbconvert_exporter": "python",
   "pygments_lexer": "ipython2",
   "version": "2.7.12"
  }
 },
 "nbformat": 4,
 "nbformat_minor": 2
}
